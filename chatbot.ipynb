{
  "nbformat": 4,
  "nbformat_minor": 0,
  "metadata": {
    "colab": {
      "provenance": []
    },
    "kernelspec": {
      "name": "python3",
      "display_name": "Python 3"
    },
    "language_info": {
      "name": "python"
    }
  },
  "cells": [
    {
      "cell_type": "markdown",
      "source": [
        "# New implementation\n",
        "\n",
        "What can the bot do?:\n",
        "1. Respond to user questions.\n",
        "2. Get links from google and combines it with response and returns to the user.\n",
        "3. Store the whole conversation in a csv file.\n",
        "4. Retrieve answers from a database that are not found in the internet.\n",
        "5. Interpret code and suggest edits.\n",
        "6. Send an email to a concerened person when the user wants to escalate.\n",
        "\n"
      ],
      "metadata": {
        "id": "GkYvnT_CCKzq"
      }
    },
    {
      "cell_type": "code",
      "source": [
        "!pip3 install openai langchain pinecone-client tiktoken numpy pandas flask firebase-admin firebase-auth streamlit pytest python-dotenv pylint\n",
        "!pip install promptlayer\n",
        "!pip install openai\n",
        "!pip install openai >> null\n",
        "!pip install beautifulsoup4\n",
        "!pip install google\n",
        "!pip install beautifulsoup4"
      ],
      "metadata": {
        "id": "fDb3-Q88tGBP"
      },
      "execution_count": null,
      "outputs": []
    },
    {
      "cell_type": "code",
      "source": [
        "%%capture\n",
        "import json\n",
        "import openai\n",
        "import time\n",
        "import os\n",
        "import sys\n",
        "from openai import OpenAI"
      ],
      "metadata": {
        "id": "-c1RIYhs9qf8"
      },
      "execution_count": 16,
      "outputs": []
    },
    {
      "cell_type": "code",
      "source": [
        "#set environment variable. (include your api keys)\n",
        "os.environ['OPENAI_API_KEY'] = 'your key'    #you can find through this link: https://platform.openai.com/api-keys\n",
        "\n",
        "#not needed\n",
        "# os.environ['PINECNE_API_KEY'] = 'your key'\n",
        "# os.environ['PROMPTLAYER_API_KEY'] = 'your key'"
      ],
      "metadata": {
        "id": "mIL7gLhHFlh4"
      },
      "execution_count": 17,
      "outputs": []
    },
    {
      "cell_type": "code",
      "source": [
        "key = os.getenv(\"OPENAI_API_KEY\")\n",
        "client = openai.OpenAI(\n",
        "    organization= \"your key\",      #you can find through this link: https://platform.openai.com/account/organization\n",
        "    api_key = key\n",
        ")"
      ],
      "metadata": {
        "id": "V_QUX0ohJO9O"
      },
      "execution_count": 18,
      "outputs": []
    },
    {
      "cell_type": "code",
      "source": [
        "# Upload files like FAQ,\n",
        "# Upload a file with an \"assistants\" purpose  (can upload csv, pdf, doc file)\n",
        "file = client.files.create(\n",
        "    file=open(\"question_answers.csv\", \"rb\"), purpose='assistants'\n",
        ")\n",
        "file_id = file.id\n",
        "# print(file.id)"
      ],
      "metadata": {
        "id": "CtZsmeGXGr7A"
      },
      "execution_count": 19,
      "outputs": []
    },
    {
      "cell_type": "code",
      "source": [
        "# create assistant, give it access to file. And print out assistant id.\n",
        "prompt = \"\"\" You are PyVizPro, a data visualization expert with a strong command of Python. You've spent years honing your data visualization skills, and you're ready to help others understand how to create stunning visuals from their data. You use examples from well-known data visualization libraries like Matplotlib, Seaborn, Plotly and provide code snippets and resources to help illustrate your points.\n",
        "Your language must be easy to grasp for someone new to data visualization in Python, and you'll use a mix of relatable analogies and everyday language to make your explanations engaging.\n",
        "If you encounter a question you can't answer, don't make things up; instead, ask for more details to provide the best answer.\n",
        "If the user asks questions not related to data visualization and python, you must not answer that question and inform the user that \"Please note, I specialize in Python data visualization. Questions outside this realm is beyond my expertise.\"\n",
        "\"\"\"\n",
        "assistant = client.beta.assistants.create(\n",
        "    name=\"PyVizPro\",\n",
        "    instructions = prompt,\n",
        "    model=\"gpt-4-1106-preview\",\n",
        "    tools=[\n",
        "            {\"type\": \"retrieval\"},\n",
        "            {\"type\": \"code_interpreter\"},     #we can also add a type: function and then define a function as well.\n",
        "          ],\n",
        "    file_ids=[file_id]        #if no files to read from, just remove this file ids.\n",
        ")\n",
        "\n",
        "# print(assistant)"
      ],
      "metadata": {
        "id": "2Z8SsNkMK-Ou"
      },
      "execution_count": 20,
      "outputs": []
    },
    {
      "cell_type": "markdown",
      "source": [
        "#Helper Functions"
      ],
      "metadata": {
        "id": "E2FtfAkG2Phi"
      }
    },
    {
      "cell_type": "code",
      "source": [
        "#helper function: send email\n",
        "#html format available.\n",
        "'''\n",
        "https://github.com/visheshdvivedi/How-To-Send-Email-In-Python-Using-Smtplib-Tutorial/blob/main/html%20mail.py\n",
        "'''\n",
        "import smtplib\n",
        "import getpass\n",
        "def send_email(from_email, to_email, subject, body_text):\n",
        "\n",
        "    HOST = \"smtp-mail.outlook.com\"\n",
        "    PORT = 587\n",
        "\n",
        "    FROM_EMAIL = from_email\n",
        "    TO_EMAIL = to_email\n",
        "    PASSWORD = getpass.getpass(\"Enter your email password: \")\n",
        "\n",
        "    # MESSAGE = \"\"\"Subject: this is new test email \\n\n",
        "    # Hello i am testing this email function and this is body text. sajan\"\"\"\n",
        "\n",
        "    MESSAGE = f\"Subject: {subject}\\n\\n{body_text}\"\n",
        "\n",
        "    try:\n",
        "            smtp = smtplib.SMTP(HOST, PORT)\n",
        "            status_code, response = smtp.ehlo()\n",
        "            print(f\"[*] Echoing the server: {status_code} {response}\")\n",
        "\n",
        "            status_code, response = smtp.starttls()\n",
        "            print(f\"[*] Starting TLS connection: {status_code} {response}\")\n",
        "\n",
        "            status_code, response = smtp.login(FROM_EMAIL, PASSWORD)\n",
        "            print(f\"[*] Logging in: {status_code} {response}\")\n",
        "\n",
        "            smtp.sendmail(FROM_EMAIL, TO_EMAIL, MESSAGE)\n",
        "            smtp.quit()\n",
        "            return True\n",
        "\n",
        "    except Exception as e:\n",
        "            print(f\"An error occurred: {e}\")\n",
        "            return False\n",
        "\n",
        "\n",
        "# FROM_EMAIL = \"rsajanacharya20@outlook.com\"\n",
        "# TO_EMAIL = \"sajanacharya20@gmail.com\"\n",
        "# subject = \"test subject\"\n",
        "# body_text = \"Hello i am testing this email function and this is body text.sajan\"\n",
        "# send_email(FROM_EMAIL, TO_EMAIL, subject, body_text)"
      ],
      "metadata": {
        "id": "IcAQQ-_OMkcf"
      },
      "execution_count": 21,
      "outputs": []
    },
    {
      "cell_type": "code",
      "source": [
        "#store questions and answers in csv file.\n",
        "import csv\n",
        "def store_answers_in_csv(questions_response_dict):\n",
        "\n",
        "  # Define the file name for the CSV\n",
        "  file_name = 'question_answers.csv'\n",
        "\n",
        "  # Writing question-answer pairs to a CSV file\n",
        "  #append to the file: a |  create new file and write: w\n",
        "  with open(file_name, mode='a', newline='') as file:\n",
        "      writer = csv.writer(file)\n",
        "\n",
        "      # Writing header (optional)\n",
        "      writer.writerow(['Question', 'Answer'])\n",
        "\n",
        "      # Writing question-answer pairs\n",
        "      for question, answers in questions_response_dict.items():\n",
        "          writer.writerow([question, answers])\n",
        "  print(f\"Question-answer pairs have been written to '{file_name}'.\")\n",
        "\n",
        "\n",
        "# Your dictionary with questions and lists of answers:\n",
        "#Sample Input->  questions_response_dict = {question1: answer1, question2: answer2}"
      ],
      "metadata": {
        "id": "EYgajKzIotSN"
      },
      "execution_count": 30,
      "outputs": []
    },
    {
      "cell_type": "code",
      "source": [
        "def store_in_database(question, answer):\n",
        "  #TO DO add it in the database\n",
        "  pass"
      ],
      "metadata": {
        "id": "CIfznBQv2IVw"
      },
      "execution_count": 23,
      "outputs": []
    },
    {
      "cell_type": "code",
      "source": [
        "def escalate():\n",
        "  #add what we need to do if the user wants to escalate the issue to human\n",
        "\n",
        "  #TO DO\n",
        "  # 1. get the email, password and send the conversation as required body text. All conversation currently in csv\n",
        "  # 2. Another approach: we can summarize the conversation(using other llm which doesn't cost much) and then send that as body text as well.\n",
        "\n",
        "  # we can send email like this.\n",
        "  # sent = send_email('from_email',destination_email, subject,text_body)\n",
        "  email_sent = send_email('rsajanacharya20@outlook.com', 'sajanacharya20@gmail.com', \"this is a test email\", \"Hello i am testing this email function and this is body text. sajam\")\n",
        "  if email_sent:\n",
        "    return \"Email has been sent\"\n",
        "  else:\n",
        "    return \"There has been some error sending email\"\n"
      ],
      "metadata": {
        "id": "TuY6g6qI2oKt"
      },
      "execution_count": 24,
      "outputs": []
    },
    {
      "cell_type": "code",
      "source": [
        "#bold prompt\n",
        "def bold_prompt(prompt):\n",
        "    bold = \"\\033[1m\"\n",
        "    reset = \"\\033[0m\"\n",
        "    sys.stdout.write(bold + prompt + reset)\n",
        "    sys.stdout.flush()\n",
        "\n",
        "def bold_print(text):\n",
        "    return f\"\\033[1m{text}\\033[0m\"\n"
      ],
      "metadata": {
        "id": "VVEBNUGX412c"
      },
      "execution_count": 32,
      "outputs": []
    },
    {
      "cell_type": "code",
      "source": [
        "# bold_prompt(\"Did the following response address your question? REPLY YES or NO: \")\n",
        "# ask_user_satisfaction = input()\n",
        "\n",
        "# normal = input(\"This is normal type\")\n",
        "# print(normal)"
      ],
      "metadata": {
        "id": "2AWSNzgw5bfo"
      },
      "execution_count": 33,
      "outputs": []
    },
    {
      "cell_type": "code",
      "source": [
        "\"\"\" This function takes gpt's answers as parameter and searches on the web to get relevant website links to\n",
        "    be returned to the users for references and further studies.\n",
        "    We use google api to conduct the search\n",
        "\"\"\"\n",
        "# creating a set of websites we want to omit\n",
        "websites_to_omit = {\"https://study.com\"}\n",
        "\n",
        "def get_links(gpt_response):\n",
        "\n",
        "    # a list to store the links\n",
        "    resources_links = []\n",
        "    try:\n",
        "        from googlesearch import search\n",
        "    except ImportError:\n",
        "        print(\"No module named 'google' found\")\n",
        "        return []\n",
        "\n",
        "    # use sijans summary function that will summarize gpts response which can then be used\n",
        "    # to search the web\n",
        "\n",
        "    # what_to_search = summarize_Llama(gpt_response)\n",
        "\n",
        "\n",
        "    # num sets no. of result, start sets where to start retreiving result from\n",
        "    # stop sets last number of result to retreive\n",
        "    # pause is to pause the http requests\n",
        "    for link in search(gpt_response, num=10, stop=15, pause=5):\n",
        "        # print(link)\n",
        "        curr_link =  link.split(\".com\")\n",
        "        if f\"{curr_link[0]}.com\" not in websites_to_omit:\n",
        "            resources_links.append(link)\n",
        "\n",
        "    return resources_links"
      ],
      "metadata": {
        "id": "qGK798YIyJD3"
      },
      "execution_count": 34,
      "outputs": []
    },
    {
      "cell_type": "markdown",
      "source": [
        "#Main Function\n",
        "\n"
      ],
      "metadata": {
        "id": "TN0K6DPv4O9H"
      }
    },
    {
      "cell_type": "code",
      "source": [
        "from openai.types.beta import assistant_create_params\n",
        "#TO DO: divide the code into modular programming.  need to work more on error handling\n",
        "def start_chatbot():\n",
        "  thread = client.beta.threads.create()\n",
        "  keep_asking = True\n",
        "  message_response_dict = {}\n",
        "  follow_up_required = False\n",
        "\n",
        "  while keep_asking:\n",
        "    if not follow_up_required:   #for Automated Follow-up System\n",
        "      user_question = input(\"How can i help you? \")\n",
        "\n",
        "    else:\n",
        "      #follow up is required. User can either provide more details or escalate(call human)\n",
        "      user_question = input(\"Please provide more details or type 'escalate' to escalate the issue:\")\n",
        "      follow_up_required = False\n",
        "\n",
        "      # TO DO: If a new email has content NO, then the bot should forward the email to the designated help desk ticket email\n",
        "      if user_question.lower() == \"escalate\":\n",
        "        #if user wants to escalate, the bot will store the questions and response to csv file and then we can either send it to email or something.\n",
        "        #just for initial phase to store the question and response to csv file.\n",
        "        store_answers_in_csv(message_response_dict)\n",
        "        message_response_dict = {}             #clearing for next query\n",
        "        escalate()\n",
        "        keep_asking = False\n",
        "        break\n",
        "\n",
        "    # sends the user's message to the OpenAI thread\n",
        "    message = client.beta.threads.messages.create(\n",
        "        thread_id = thread.id,\n",
        "        role = \"user\",\n",
        "        content = user_question\n",
        "    )\n",
        "\n",
        "    #Running the Assistant:\n",
        "    run = client.beta.threads.runs.create(\n",
        "        thread_id = thread.id,\n",
        "        assistant_id = assistant.id\n",
        "    )\n",
        "    # checks the status of the assistant. While the status is not complete, the\n",
        "    try_count = 0\n",
        "    print(\"loading\", end = \"\") #to show that pyvizpro is searching for answer.\n",
        "    while run.status not in [\"completed\", \"failed\", \"requires_action\"]:\n",
        "        print(\"...\", end = \"\")\n",
        "        if try_count > 0:\n",
        "            time.sleep(5)      #decrease the amount of times we check the run status. Wait for the gpt to generate an answer.\n",
        "\n",
        "        run = client.beta.threads.runs.retrieve(\n",
        "            thread_id=thread.id,\n",
        "            run_id=run.id\n",
        "        )\n",
        "        try_count += 1\n",
        "\n",
        "    if run.status == \"Failed\":\n",
        "      #do something\n",
        "      print(\"An errorr has occured with the api\")\n",
        "      break\n",
        "\n",
        "\n",
        "    #Getting the Assistant's Response:\n",
        "    complete_response = client.beta.threads.messages.list(thread_id=thread.id)\n",
        "\n",
        "    # find the latest response received from the assistant within a list of messages\n",
        "    latest_response_received = next(\n",
        "        (msg for msg in reversed(complete_response.data) if msg.run_id == run.id and msg.role == \"assistant\"),\n",
        "        None\n",
        "    )\n",
        "\n",
        "    #just getting the message\n",
        "    if latest_response_received:\n",
        "        assistant_message = latest_response_received.content[0].text.value\n",
        "    else:\n",
        "        print(\"No message found from the assistant in this run.\")\n",
        "        continue\n",
        "    print(\"\\n\")\n",
        "    print(f\"{bold_print('User')}: {user_question}\")\n",
        "    print(\"===========================\")\n",
        "    if \"beyond my expertise\" not in assistant_message:\n",
        "      #gets resources links everytime unless the question is out of scope.\n",
        "      resources_links = get_links(assistant_message)\n",
        "      if resources_links:\n",
        "        links_string = \"\\n\".join(resources_links)\n",
        "        bolded_line = bold_print(\"Here are some resources you can explore further:\")\n",
        "        print(f\"{bold_print('Assistant')}: {assistant_message}\\n\\n{bolded_line}\\n{links_string} \")\n",
        "        assistant_message_with_links = f'{assistant_message}\\n{links_string}'\n",
        "    else:\n",
        "      print(f\"{bold_print('Assistant')}: {assistant_message}\")   #if the message if out of scope. We can directly just put 'Please note, I specialize in Python data visualization. Questions outside this realm is beyond my expertise.'\n",
        "\n",
        "    #initial approach to store question and answer for a single user.\n",
        "    message_response_dict[user_question] = assistant_message_with_links\n",
        "\n",
        "    print(\"------------------------------------------------------------------------------------------------------------------------------------------------------------------------------------------\")\n",
        "    print(\"\\n\")\n",
        "\n",
        "    #this is the function to bold the prompt and get the response\n",
        "    bold_prompt(\"Did the following response address your question? REPLY YES or NO: \")\n",
        "    ask_user_satisfaction = input()\n",
        "\n",
        "    if ask_user_satisfaction.upper() == \"YES\":\n",
        "      # # can add the question and response to the database for next time ml integration.\n",
        "      # store_in_database(user_question, assistant_message)\n",
        "      ask_user_end = input(\"Do you want to end this chat? (Y/N) \")\n",
        "      if ask_user_end.lower() == \"y\":\n",
        "        #stores the convo to the csv file\n",
        "        store_answers_in_csv(message_response_dict)\n",
        "        print(\"Hope you had your questions solved. Have a great day\")\n",
        "        break\n",
        "    elif ask_user_satisfaction.upper() == \"NO\":\n",
        "      follow_up_required = True\n",
        "      #follow up is required and then they can ask whether user wants to talk to human or not. In next iteration followup will be executed\n",
        "    print(\"\\n\\n\")\n",
        "  return bold_print(\"Hope you had your questions solved.Have a great day\")\n",
        "\n",
        "start_chatbot()"
      ],
      "metadata": {
        "id": "5tB7Yr-cFRRL"
      },
      "execution_count": null,
      "outputs": []
    },
    {
      "cell_type": "code",
      "source": [],
      "metadata": {
        "id": "YypAULwU4MSy"
      },
      "execution_count": null,
      "outputs": []
    }
  ]
}